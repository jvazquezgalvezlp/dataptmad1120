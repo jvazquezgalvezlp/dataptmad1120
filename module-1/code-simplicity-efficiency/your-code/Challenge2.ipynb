{
 "cells": [
  {
   "cell_type": "code",
   "execution_count": 21,
   "metadata": {},
   "outputs": [
    {
     "name": "stdin",
     "output_type": "stream",
     "text": [
      "Password lenght:  8\n",
      "Number of letters needed 5\n"
     ]
    },
    {
     "name": "stdout",
     "output_type": "stream",
     "text": [
      "7717289vieli\n"
     ]
    }
   ],
   "source": [
    "def password_creator(x,y):\n",
    "     \n",
    "    letters =(['a','b','c','d','e','f','g','h','i','j','k','l','m','n','o','p','q','r','s','t','u','v','w','x','y','z','0'])\n",
    "    numbers = (['1','2','3','4','5','6','7','8','9'])\n",
    "    counter = 0\n",
    "    counter2 = 0\n",
    "    n = ''\n",
    "    l = ''\n",
    "    while (len(n +l) +1) < x:\n",
    "        import random\n",
    "        n += random.choice(numbers)\n",
    "        counter += 1\n",
    "    while counter2 < y:\n",
    "        l += random.choice(letters)\n",
    "        counter2 += 1\n",
    "        \n",
    "    password = n + l\n",
    "\n",
    "    return(password)\n",
    "\n",
    "x = input(\"Password lenght: \")\n",
    "y = input(\"Number of letters needed\")\n",
    "\n",
    "print(str(password_creator(int(x), int(y))))\n"
   ]
  },
  {
   "cell_type": "code",
   "execution_count": 20,
   "metadata": {},
   "outputs": [
    {
     "data": {
      "text/plain": [
       "'994325777ijjs'"
      ]
     },
     "execution_count": 20,
     "metadata": {},
     "output_type": "execute_result"
    }
   ],
   "source": [
    "password_creator(10,4)"
   ]
  },
  {
   "cell_type": "code",
   "execution_count": null,
   "metadata": {},
   "outputs": [],
   "source": []
  }
 ],
 "metadata": {
  "kernelspec": {
   "display_name": "Python 3",
   "language": "python",
   "name": "python3"
  },
  "language_info": {
   "codemirror_mode": {
    "name": "ipython",
    "version": 3
   },
   "file_extension": ".py",
   "mimetype": "text/x-python",
   "name": "python",
   "nbconvert_exporter": "python",
   "pygments_lexer": "ipython3",
   "version": "3.8.6"
  }
 },
 "nbformat": 4,
 "nbformat_minor": 4
}
