{
 "cells": [
  {
   "cell_type": "code",
   "execution_count": 20,
   "metadata": {},
   "outputs": [
    {
     "name": "stdout",
     "output_type": "stream",
     "text": [
      "Welcome to this calculator!\n",
      "It can add and subtract whole numbers from zero to five\n"
     ]
    },
    {
     "name": "stdin",
     "output_type": "stream",
     "text": [
      "Please choose your first number (zero to five):  one\n",
      "What do you want to do? plus or minus:  minus\n",
      "Please choose your second number (zero to five):  five\n"
     ]
    },
    {
     "name": "stdout",
     "output_type": "stream",
     "text": [
      "check your input\n",
      "one minus five equals - four\n"
     ]
    }
   ],
   "source": [
    "numbers = {'zero' : 0,\n",
    "           'one' : 1,\n",
    "           'two' : 2,\n",
    "           'three' : 3,\n",
    "           'four' : 4,\n",
    "           'five' : 5,\n",
    "           'six' : 6,\n",
    "           'seven' : 7,\n",
    "           'eight' : 8,\n",
    "           'nine' : 9,\n",
    "           'ten' : 10}\n",
    "\n",
    "signs = {'plus', 'minus'}\n",
    "\n",
    "print('Welcome to this calculator!')\n",
    "print('It can add and subtract whole numbers from zero to five')\n",
    "a = input('Please choose your first number (zero to five): ')\n",
    "b = input('What do you want to do? plus or minus: ')\n",
    "c = input('Please choose your second number (zero to five): ')\n",
    "\n",
    "if a or c not in numbers or b not in signs:\n",
    "    print('check your input')\n",
    "if b == 'plus':\n",
    "    d = numbers[a] + numbers[c]\n",
    "    print(f'{a} plus {c} equals {list(numbers.keys())[d]}')\n",
    "if numbers[a]>numbers[c] and b == 'minus':\n",
    "    d = numbers[a] - numbers[c]\n",
    "    print(f'{a} minus {c} equals {list(numbers.keys())[d]}')\n",
    "if numbers[a]<numbers[c] and b =='minus':\n",
    "    d = numbers[c] - numbers[a]\n",
    "    print(f'{a} minus {c} equals - {list(numbers.keys())[d]}')\n",
    "    "
   ]
  },
  {
   "cell_type": "code",
   "execution_count": null,
   "metadata": {},
   "outputs": [],
   "source": []
  }
 ],
 "metadata": {
  "kernelspec": {
   "display_name": "Python 3",
   "language": "python",
   "name": "python3"
  },
  "language_info": {
   "codemirror_mode": {
    "name": "ipython",
    "version": 3
   },
   "file_extension": ".py",
   "mimetype": "text/x-python",
   "name": "python",
   "nbconvert_exporter": "python",
   "pygments_lexer": "ipython3",
   "version": "3.8.6"
  }
 },
 "nbformat": 4,
 "nbformat_minor": 4
}
